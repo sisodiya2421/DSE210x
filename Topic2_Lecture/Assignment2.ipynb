{
 "cells": [
  {
   "cell_type": "code",
   "execution_count": 1,
   "metadata": {},
   "outputs": [],
   "source": [
    "A = set([-6,3,4,5])\n",
    "B = set([-6,5,13])"
   ]
  },
  {
   "cell_type": "code",
   "execution_count": 6,
   "metadata": {},
   "outputs": [],
   "source": [
    "U = A | B | set([12,-2,-4])"
   ]
  },
  {
   "cell_type": "code",
   "execution_count": 8,
   "metadata": {},
   "outputs": [
    {
     "name": "stdout",
     "output_type": "stream",
     "text": [
      "{-4, 12, -2}\n"
     ]
    }
   ],
   "source": [
    "def complement_of_union(A, B, U):\n",
    "    C = U - (A|B)\n",
    "    print(C)\n",
    "\n",
    "complement_of_union(A,B,U)"
   ]
  },
  {
   "cell_type": "code",
   "execution_count": 10,
   "metadata": {},
   "outputs": [
    {
     "name": "stdout",
     "output_type": "stream",
     "text": [
      "{-4, 12, -2}\n"
     ]
    }
   ],
   "source": [
    "def intersection_of_complements(A,B,U):\n",
    "    C = (U - A) & (U-B)\n",
    "    print(C)\n",
    "    \n",
    "intersection_of_complements(A,B,U)"
   ]
  },
  {
   "cell_type": "code",
   "execution_count": 12,
   "metadata": {},
   "outputs": [
    {
     "name": "stdout",
     "output_type": "stream",
     "text": [
      "{(5, -1), (5, 0)}\n"
     ]
    }
   ],
   "source": [
    "A = set([5])\n",
    "B = set([5])\n",
    "S = set([-1,0])\n",
    "T = set([0])\n",
    "def product_of_unions(A,B,S,T):\n",
    "    u1 = A.union(B)\n",
    "    u2 = S.union(T)\n",
    "    c = set()\n",
    "    for x in u1:\n",
    "        for y in u2:\n",
    "            c.add((x,y))\n",
    "    print(c)\n",
    "product_of_unions(A,B,S,T)\n",
    "\n"
   ]
  },
  {
   "cell_type": "code",
   "execution_count": 13,
   "metadata": {},
   "outputs": [
    {
     "data": {
      "text/plain": [
       "({5}, {(5, -1), (5, 0)})"
      ]
     },
     "execution_count": 13,
     "metadata": {},
     "output_type": "execute_result"
    }
   ],
   "source": [
    "# from EDX\n",
    "\n",
    "def product_of_unions(A, B, S, T):\n",
    "    # inputs: A, B, S and T are sets\n",
    "    # output: a tuple of the type (set, set)\n",
    "\n",
    "    return (A | B, set(itertools.product(list(A | B), list(S | T))))\n",
    "product_of_unions(A,B,S,T)"
   ]
  },
  {
   "cell_type": "code",
   "execution_count": 11,
   "metadata": {},
   "outputs": [
    {
     "data": {
      "text/plain": [
       "({(5, -1), (5, 0)}, {(5, -1), (5, 0)})"
      ]
     },
     "execution_count": 11,
     "metadata": {},
     "output_type": "execute_result"
    }
   ],
   "source": [
    "import itertools\n",
    "\n",
    "def union_of_products(A, B, S, T):\n",
    "    # inputs: A, B, S and T are sets\n",
    "    # output: a tuple of the type (set, set)\n",
    "    \n",
    "    AS = set(itertools.product(list(A), list(S)))\n",
    "    AT = set(itertools.product(list(A), list(T)))\n",
    "    BS = set(itertools.product(list(B), list(S)))\n",
    "    BT = set(itertools.product(list(B), list(T)))\n",
    "    \n",
    "    return (AS, AS | AT | BS | BT)\n",
    "\n",
    "union_of_products(A,B,S,T)"
   ]
  }
 ],
 "metadata": {
  "kernelspec": {
   "display_name": "Python 3",
   "language": "python",
   "name": "python3"
  },
  "language_info": {
   "codemirror_mode": {
    "name": "ipython",
    "version": 3
   },
   "file_extension": ".py",
   "mimetype": "text/x-python",
   "name": "python",
   "nbconvert_exporter": "python",
   "pygments_lexer": "ipython3",
   "version": "3.8.3"
  }
 },
 "nbformat": 4,
 "nbformat_minor": 4
}
